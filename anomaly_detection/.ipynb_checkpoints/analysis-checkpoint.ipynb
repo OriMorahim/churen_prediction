{
 "cells": [
  {
   "cell_type": "code",
   "execution_count": null,
   "id": "fa78a210",
   "metadata": {},
   "outputs": [],
   "source": [
    "import math\n",
    "\n",
    "import pandas as pd\n",
    "import matplotlib.pyplot as plt\n",
    "from typing import Tuple, Dict, List\n",
    "\n",
    "UNIX_TIMESTAMP_COL = 'Timestamp'"
   ]
  },
  {
   "cell_type": "code",
   "execution_count": null,
   "id": "655bd95a",
   "metadata": {},
   "outputs": [],
   "source": [
    "rawdata = pd.read_csv('gs://anomaly_detection_inputs/saltdsassignment/data.csv.zip')\n",
    "rawdata.Timestamp = rawdata.Timestamp.astype(int) \n",
    "rawdata[REQUEST_TIMESTAMP_COL] = pd.to_datetime(rawdata.Timestamp, unit='s')"
   ]
  },
  {
   "cell_type": "markdown",
   "id": "35433c61",
   "metadata": {},
   "source": [
    "# Set time intervals values"
   ]
  },
  {
   "cell_type": "code",
   "execution_count": null,
   "id": "e4d1dd52",
   "metadata": {},
   "outputs": [],
   "source": [
    "def generate_time_intervals(unix_start_time: int, unix_end_time: int, \n",
    "                            time_interval: int) -> Dict[int, int]:\n",
    "    \"\"\"\n",
    "    This function generate time intervals (by seconds) ranges by the user specific request\n",
    "    \"\"\"\n",
    "    still_remain = True\n",
    "    \n",
    "    alternative_time: Dict[int, int] = dict()\n",
    "    lower_boundry = unix_start_time\n",
    "    \n",
    "    while still_remain:\n",
    "        upper_boundry = lower_boundry + time_interval\n",
    "        mean_value = lower_boundry + math.ceil(0.5*time_interval)\n",
    "        \n",
    "        for unix_second in range(lower_boundry, upper_boundry):\n",
    "            alternative_time[unix_second] = mean_value\n",
    "        \n",
    "        if upper_boundry > unix_end_time:\n",
    "            still_remain = False\n",
    "        \n",
    "        else:\n",
    "            lower_boundry = upper_boundry\n",
    "            \n",
    "    return alternative_time\n",
    "\n",
    "\n",
    "def set_time_intervals(rawdata: pd.DataFrame, time_intervals_list: List[int]) -> pd.DataFrame:\n",
    "    \"\"\"\n",
    "    This function add column with an alternative timestamps value according to each of the intervlas \n",
    "    windows provided in the time_intervals list\n",
    "    \"\"\"\n",
    "    unix_start_time = rawdata[UNIX_TIMESTAMP_COL].min()\n",
    "    unix_end_time = rawdata[UNIX_TIMESTAMP_COL].min()\n",
    "    \n",
    "    for time_interval in time_intervals_list:\n",
    "        time_intervals = generate_time_intervals(unix_start_time, unix_end_time, \n",
    "                            time_interval)\n",
    "        \n",
    "        rawdata[f'interval_window_{time_interval}_sec'] = rawdata[UNIX_TIMESTAMP_COL].replace(\n",
    "            time_intervals)\n",
    "        \n",
    "    return rawdata\n",
    "\n",
    "rawdata = set_time_intervals(rawdata, [10, 30, 60, 180, 300])"
   ]
  },
  {
   "cell_type": "code",
   "execution_count": null,
   "id": "1a08ff69",
   "metadata": {},
   "outputs": [],
   "source": [
    "pd.set_option('display.max_rows', 200)\n",
    "rawdata.head(200)"
   ]
  },
  {
   "cell_type": "markdown",
   "id": "0028f3b1",
   "metadata": {},
   "source": [
    "# Analyze the number of requests a user or an API associate with "
   ]
  },
  {
   "cell_type": "code",
   "execution_count": null,
   "id": "e4dee8e4",
   "metadata": {},
   "outputs": [],
   "source": [
    "pd.set_option('display.max_rows', 200)\n",
    "route_data.head(200)"
   ]
  },
  {
   "cell_type": "code",
   "execution_count": null,
   "id": "db6f74a3",
   "metadata": {},
   "outputs": [],
   "source": [
    "for route, route_data in rawdata.groupby('Route'):\n",
    "    plt.plot(route_data['interval_window_30_sec'].size())\n",
    "#plt.plot(raw)"
   ]
  },
  {
   "cell_type": "code",
   "execution_count": null,
   "id": "c3a7ed06",
   "metadata": {},
   "outputs": [],
   "source": []
  },
  {
   "cell_type": "code",
   "execution_count": null,
   "id": "f09ce469",
   "metadata": {},
   "outputs": [],
   "source": [
    "rawdata"
   ]
  },
  {
   "cell_type": "code",
   "execution_count": null,
   "id": "6da51d9c",
   "metadata": {},
   "outputs": [],
   "source": [
    "a = generate_time_intervals(rawdata.Timestamp.min(),rawdata.Timestamp.max(), 10)"
   ]
  },
  {
   "cell_type": "code",
   "execution_count": null,
   "id": "c93250a6",
   "metadata": {},
   "outputs": [],
   "source": [
    "a[1577829614]"
   ]
  },
  {
   "cell_type": "code",
   "execution_count": null,
   "id": "79d74cc2",
   "metadata": {},
   "outputs": [],
   "source": []
  },
  {
   "cell_type": "code",
   "execution_count": null,
   "id": "21ffcc0a",
   "metadata": {},
   "outputs": [],
   "source": [
    "rawdata[UNIX_TIMESTAMP_COL].replace(a)"
   ]
  },
  {
   "cell_type": "code",
   "execution_count": null,
   "id": "d23d6e9b",
   "metadata": {},
   "outputs": [],
   "source": []
  }
 ],
 "metadata": {
  "environment": {
   "name": "r-cpu.3-6.m65",
   "type": "gcloud",
   "uri": "gcr.io/deeplearning-platform-release/r-cpu.3-6:m65"
  },
  "kernelspec": {
   "display_name": "Python 3",
   "language": "python",
   "name": "python3"
  },
  "language_info": {
   "codemirror_mode": {
    "name": "ipython",
    "version": 3
   },
   "file_extension": ".py",
   "mimetype": "text/x-python",
   "name": "python",
   "nbconvert_exporter": "python",
   "pygments_lexer": "ipython3",
   "version": "3.7.10"
  }
 },
 "nbformat": 4,
 "nbformat_minor": 5
}
