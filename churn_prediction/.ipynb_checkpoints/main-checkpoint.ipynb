{
 "cells": [
  {
   "cell_type": "code",
   "execution_count": 1,
   "id": "214dcc82",
   "metadata": {},
   "outputs": [],
   "source": [
    "import shap\n",
    "import numpy as np\n",
    "import pandas as pd\n",
    "from shap import TreeExplainer\n",
    "import matplotlib.pyplot as plt\n",
    "from lightgbm import plot_importance\n",
    "from sklearn.metrics import f1_score, recall_score, precision_score, roc_auc_score, accuracy_score, confusion_matrix, roc_curve\n",
    "\n",
    "import preprocess\n",
    "import train_model\n",
    "import feature_engineering"
   ]
  },
  {
   "cell_type": "markdown",
   "id": "48176495",
   "metadata": {},
   "source": [
    "# Run Model"
   ]
  },
  {
   "cell_type": "code",
   "execution_count": 2,
   "id": "d6dc1a32",
   "metadata": {},
   "outputs": [
    {
     "name": "stderr",
     "output_type": "stream",
     "text": [
      "Columns (0,1,3,5,6,7,8,10,11) have mixed types.Specify dtype option on import or set low_memory=False.\n",
      "Found `num_boost_round` in params. Will use it instead of argument\n"
     ]
    },
    {
     "name": "stdout",
     "output_type": "stream",
     "text": [
      "[LightGBM] [Warning] feature_fraction is set=0.6, colsample_bytree=1.0 will be ignored. Current value: feature_fraction=0.6\n",
      "[LightGBM] [Warning] bagging_fraction is set=0.65, subsample=1.0 will be ignored. Current value: bagging_fraction=0.65\n",
      "[LightGBM] [Warning] min_data_in_leaf is set=30, min_child_samples=20 will be ignored. Current value: min_data_in_leaf=30\n",
      "[LightGBM] [Warning] num_iterations is set=500, num_boost_round=500 will be ignored. Current value: num_iterations=500\n",
      "Training until validation scores don't improve for 35 rounds\n",
      "[50]\tvalid_0's binary_logloss: 0.150405\n",
      "[100]\tvalid_0's binary_logloss: 0.139496\n",
      "[150]\tvalid_0's binary_logloss: 0.135081\n",
      "[200]\tvalid_0's binary_logloss: 0.132899\n",
      "[250]\tvalid_0's binary_logloss: 0.131802\n",
      "[300]\tvalid_0's binary_logloss: 0.131049\n",
      "[350]\tvalid_0's binary_logloss: 0.130497\n",
      "[400]\tvalid_0's binary_logloss: 0.130216\n",
      "[450]\tvalid_0's binary_logloss: 0.130009\n",
      "[500]\tvalid_0's binary_logloss: 0.129789\n",
      "Did not meet early stopping. Best iteration is:\n",
      "[500]\tvalid_0's binary_logloss: 0.129789\n",
      "CPU times: user 1min 11s, sys: 5.16 s, total: 1min 16s\n",
      "Wall time: 33.7 s\n"
     ]
    }
   ],
   "source": [
    "%%time\n",
    "# pre process\n",
    "rawdata = preprocess.preprocess()\n",
    "\n",
    "# feature engineering\n",
    "feature_engineering_response = feature_engineering.presplit_feature_engineering(rawdata)\n",
    "\n",
    "# train model\n",
    "train_cols = list(feature_engineering_response.lag_features_organizer.all_new_features.union(\n",
    "feature_engineering_response.moving_averages_features_organizer.all_new_features\n",
    ").union(feature_engineering_response.dates_diff_organizer.all_new_features)) + feature_engineering.FEATURES_TO_LAG\n",
    "\n",
    "\n",
    "model_artifacts = train_model.model_exe(\n",
    "    feature_engineering_response.enriched_data,\n",
    "    train_cols,\n",
    "    1.5\n",
    ")"
   ]
  },
  {
   "cell_type": "markdown",
   "id": "a48618f3",
   "metadata": {},
   "source": [
    "# Analyze model performance on validation"
   ]
  },
  {
   "cell_type": "code",
   "execution_count": 5,
   "id": "2b7812b0",
   "metadata": {},
   "outputs": [],
   "source": [
    "train_cols = model_artifacts.train_cols\n",
    "X_validation = model_artifacts.splited_data.validation['X']\n",
    "y_validation = model_artifacts.splited_data.validation['y']\n",
    "y_validation_proba = model_artifacts.estimator.predict_proba(X_validation[train_cols])[:,1]\n",
    "y_validation_pred = np.where(y_validation_proba>=model_artifacts.optimal_threshold, 1, 0)\n",
    "\n",
    "X_train = model_artifacts.splited_data.train['X']\n",
    "y_train = model_artifacts.splited_data.train['y']\n",
    "y_train_proba = model_artifacts.estimator.predict_proba(X_train[train_cols])[:,1]\n",
    "y_train_pred = np.where(y_train_proba>=model_artifacts.optimal_threshold, 1, 0)"
   ]
  },
  {
   "cell_type": "code",
   "execution_count": 6,
   "id": "65140e56",
   "metadata": {},
   "outputs": [
    {
     "name": "stdout",
     "output_type": "stream",
     "text": [
      "***VALIDATION***\n",
      "The model accuracy is: 0.9447467993572798\n",
      "The model ROC-AUC score is: 0.6890607540962056\n",
      "The model F1 score is: 0.21386430678466076\n",
      "The model recall score is: 0.4239766081871345\n",
      "The model precision score is: 0.14299802761341224\n",
      "\n"
     ]
    },
    {
     "data": {
      "text/html": [
       "<div>\n",
       "<style scoped>\n",
       "    .dataframe tbody tr th:only-of-type {\n",
       "        vertical-align: middle;\n",
       "    }\n",
       "\n",
       "    .dataframe tbody tr th {\n",
       "        vertical-align: top;\n",
       "    }\n",
       "\n",
       "    .dataframe thead th {\n",
       "        text-align: right;\n",
       "    }\n",
       "</style>\n",
       "<table border=\"1\" class=\"dataframe\">\n",
       "  <thead>\n",
       "    <tr style=\"text-align: right;\">\n",
       "      <th></th>\n",
       "      <th>0</th>\n",
       "      <th>1</th>\n",
       "    </tr>\n",
       "  </thead>\n",
       "  <tbody>\n",
       "    <tr>\n",
       "      <th>0</th>\n",
       "      <td>18082</td>\n",
       "      <td>869</td>\n",
       "    </tr>\n",
       "    <tr>\n",
       "      <th>1</th>\n",
       "      <td>197</td>\n",
       "      <td>145</td>\n",
       "    </tr>\n",
       "  </tbody>\n",
       "</table>\n",
       "</div>"
      ],
      "text/plain": [
       "       0    1\n",
       "0  18082  869\n",
       "1    197  145"
      ]
     },
     "metadata": {},
     "output_type": "display_data"
    },
    {
     "name": "stdout",
     "output_type": "stream",
     "text": [
      "\n",
      "***TRAIN***\n",
      "The model accuracy is: 0.871516357642555\n",
      "The model ROC-AUC score is: 0.7360981573712637\n",
      "The model F1 score is: 0.3954826489403524\n",
      "The model recall score is: 0.5776177053972231\n",
      "The model precision score is: 0.3006738398000217\n",
      "\n"
     ]
    },
    {
     "data": {
      "text/html": [
       "<div>\n",
       "<style scoped>\n",
       "    .dataframe tbody tr th:only-of-type {\n",
       "        vertical-align: middle;\n",
       "    }\n",
       "\n",
       "    .dataframe tbody tr th {\n",
       "        vertical-align: top;\n",
       "    }\n",
       "\n",
       "    .dataframe thead th {\n",
       "        text-align: right;\n",
       "    }\n",
       "</style>\n",
       "<table border=\"1\" class=\"dataframe\">\n",
       "  <thead>\n",
       "    <tr style=\"text-align: right;\">\n",
       "      <th></th>\n",
       "      <th>0</th>\n",
       "      <th>1</th>\n",
       "    </tr>\n",
       "  </thead>\n",
       "  <tbody>\n",
       "    <tr>\n",
       "      <th>0</th>\n",
       "      <td>109203</td>\n",
       "      <td>12869</td>\n",
       "    </tr>\n",
       "    <tr>\n",
       "      <th>1</th>\n",
       "      <td>4046</td>\n",
       "      <td>5533</td>\n",
       "    </tr>\n",
       "  </tbody>\n",
       "</table>\n",
       "</div>"
      ],
      "text/plain": [
       "        0      1\n",
       "0  109203  12869\n",
       "1    4046   5533"
      ]
     },
     "metadata": {},
     "output_type": "display_data"
    }
   ],
   "source": [
    "print(f'***VALIDATION***')\n",
    "print(f'The model accuracy is: {accuracy_score(y_validation, y_validation_pred)}')\n",
    "print(f'The model ROC-AUC score is: {roc_auc_score(y_validation, y_validation_pred)}')\n",
    "print(f'The model F1 score is: {f1_score(y_validation, y_validation_pred)}')\n",
    "print(f'The model recall score is: {recall_score(y_validation, y_validation_pred)}')\n",
    "print(f'The model precision score is: {precision_score(y_validation, y_validation_pred)}\\n')\n",
    "\n",
    "conf_mat = confusion_matrix(y_validation, y_validation_pred) \n",
    "display(pd.DataFrame(conf_mat))\n",
    "\n",
    "print(f'\\n***TRAIN***')\n",
    "print(f'The model accuracy is: {accuracy_score(y_train, y_train_pred)}')\n",
    "print(f'The model ROC-AUC score is: {roc_auc_score(y_train, y_train_pred)}')\n",
    "print(f'The model F1 score is: {f1_score(y_train, y_train_pred)}')\n",
    "print(f'The model recall score is: {recall_score(y_train, y_train_pred)}')\n",
    "print(f'The model precision score is: {precision_score(y_train, y_train_pred)}\\n')\n",
    "\n",
    "conf_mat = confusion_matrix(y_train, y_train_pred) \n",
    "display(pd.DataFrame(conf_mat))"
   ]
  },
  {
   "cell_type": "code",
   "execution_count": null,
   "id": "5d52ed2c",
   "metadata": {},
   "outputs": [],
   "source": [
    "fpr_validation,tpr_validation,_ = roc_curve(y_validation, y_validation_proba)\n",
    "fpr_train,tpr_train,_ = roc_curve(y_train, y_train_proba)\n",
    "\n",
    "plt.figure(figsize=(20, 12))\n",
    "plt.grid()\n",
    "plt.plot(fpr_train,tpr_train, marker='.', label=f\"Train AUC: {round(roc_auc_score(y_train, y_train_pred), 2)}\")\n",
    "plt.plot(fpr_validation,tpr_validation, marker='.', label=f\"Validation AUC: {round(roc_auc_score(y_validation, y_validation_pred), 2)}\")\n",
    "plt.title('MODEL Recall-Precision curv')\n",
    "plt.xlabel('FPR', fontsize=12)\n",
    "plt.ylabel('TPR', fontsize=12)\n",
    "plt.legend(fontsize=20)\n",
    "plt.ylim(0,1)\n",
    "plt.xlim(0,1)\n",
    "plt.show()"
   ]
  },
  {
   "cell_type": "markdown",
   "id": "cc63e147",
   "metadata": {},
   "source": [
    "# Interpritate model"
   ]
  },
  {
   "cell_type": "code",
   "execution_count": null,
   "id": "6cf22b38",
   "metadata": {},
   "outputs": [],
   "source": [
    "explainer = TreeExplainer(model_artifacts.estimator)\n",
    "shap_values = explainer.shap_values(X_validation[train_cols])"
   ]
  },
  {
   "cell_type": "code",
   "execution_count": null,
   "id": "4b26fafe",
   "metadata": {},
   "outputs": [],
   "source": [
    "shap.summary_plot(shap_values[1], X_validation[train_cols])"
   ]
  },
  {
   "cell_type": "code",
   "execution_count": null,
   "id": "f62183f6",
   "metadata": {},
   "outputs": [],
   "source": [
    "plot_importance(\n",
    "    model_artifacts.estimator, \n",
    "    max_num_features=25, \n",
    "    figsize=(15, 10),\n",
    "    importance_type='gain'\n",
    ")"
   ]
  },
  {
   "cell_type": "code",
   "execution_count": null,
   "id": "14093615",
   "metadata": {},
   "outputs": [],
   "source": []
  }
 ],
 "metadata": {
  "environment": {
   "name": "r-cpu.3-6.m65",
   "type": "gcloud",
   "uri": "gcr.io/deeplearning-platform-release/r-cpu.3-6:m65"
  },
  "kernelspec": {
   "display_name": "Python 3",
   "language": "python",
   "name": "python3"
  },
  "language_info": {
   "codemirror_mode": {
    "name": "ipython",
    "version": 3
   },
   "file_extension": ".py",
   "mimetype": "text/x-python",
   "name": "python",
   "nbconvert_exporter": "python",
   "pygments_lexer": "ipython3",
   "version": "3.7.10"
  }
 },
 "nbformat": 4,
 "nbformat_minor": 5
}
