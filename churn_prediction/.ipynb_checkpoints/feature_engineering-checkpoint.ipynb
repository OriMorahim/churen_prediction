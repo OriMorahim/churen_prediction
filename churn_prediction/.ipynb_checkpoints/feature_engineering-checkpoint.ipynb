{
 "cells": [
  {
   "cell_type": "code",
   "execution_count": 75,
   "id": "85a31698",
   "metadata": {},
   "outputs": [
    {
     "name": "stdout",
     "output_type": "stream",
     "text": [
      "Overwriting feature_engineering.py\n"
     ]
    }
   ],
   "source": [
    "#%%writefile feature_engineering.py\n",
    "from collections import defaultdict\n",
    "from typing import List, Dict, Set, Tuple, Optional, NamedTuple\n",
    "\n",
    "import pandas as pd\n",
    "\n",
    "DATE_COL = 'ActiveDate'\n",
    "USER_ID_COL = 'ID'\n",
    "TARGET_COL = 'target'\n",
    "ALL_EQUITY_COLUMN = 'EOM_Equity'\n",
    "DATES_DIFFS_CHECK_COLUMNS = ['LastPosOpenDate', 'LastLoggedIn']\n",
    "\n",
    "EOM_EQUITY_BY_TYPES = [\n",
    "    'EOM_Equity_Copy',\n",
    "    'EOM_Equity_Real_Crypto',\n",
    "    'EOM_Equity_Real_Stocks',\n",
    "    'EOM_Equity_CFD_Crypto',\n",
    "    'EOM_Equity_CFD_Stocks',\n",
    "    'EOM_Equity_FX/Comm/Ind',\n",
    "    'EOM_Equity'\n",
    "]\n",
    "\n",
    "AMOUNT_IN_BY_TYPES = [\n",
    "    'AmountIn_NewTrades_Copy',\n",
    "    'AmountIn_NewTrades_Real_Stocks',\n",
    "    'AmountIn_NewTrades_CFD_Stocks',\n",
    "    'AmountIn_NewTrades_Real_Crypto',\n",
    "    'AmountIn_NewTrades_CFD_Crypto',\n",
    "    'AmountIn_NewTrades_FX/Comm/Ind',\n",
    "    'AmountIn_NewTrades_Total'\n",
    "]\n",
    "\n",
    "COUNT_IN_BY_TYPES = [\n",
    "    'NewTrades_Copy',\n",
    "    'NewTrades_Real_Stocks',\n",
    "    'NewTrades_CFD_Stocks',\n",
    "    'NewTrades_Real_Crypto',\n",
    "    'NewTrades_CFD_Crypto',\n",
    "    'NewTrades_FX/Comm/Ind',\n",
    "    'NewTrades_Total'\n",
    "]\n",
    "\n",
    "REVENUE_BY_TYPES = [\n",
    "    'Revenue_Copy',\n",
    "    'Revenue_Real_Stocks',\n",
    "    'Revenue_CFD_Stocks',\n",
    "    'Revenue_Real_Crypto',\n",
    "    'Revenue_CFD_Crypto',\n",
    "    'Revenue_FX/Comm/Ind',\n",
    "    'Revenue_Total'\n",
    "]\n",
    "\n",
    "FEATURES_TO_LAG = EOM_EQUITY_BY_TYPES+AMOUNT_IN_BY_TYPES+COUNT_IN_BY_TYPES+REVENUE_BY_TYPES\n",
    "\n",
    "\n",
    "class EngineeredFeaturesOrganizer(NamedTuple):\n",
    "    all_new_features: Set[str]\n",
    "    all_new_features_classified: Optional[Dict[str, Set[str]]] = None\n",
    "        \n",
    "        \n",
    "class FeatureEngineeringResponse(NamedTuple):\n",
    "    enriched_data: pd.DataFrame\n",
    "    lag_features_organizer: EngineeredFeaturesOrganizer\n",
    "    moving_averages_features_organizer: EngineeredFeaturesOrganizer\n",
    "    dates_diff_organizer: EngineeredFeaturesOrganizer\n",
    "    \n",
    "\n",
    "def generate_lag_features(rawdata:pd.DataFrame, features_to_lag: List[str] = FEATURES_TO_LAG,\n",
    "                         lags_range: int = 3) -> Tuple[pd.DataFrame, EngineeredFeaturesOrganizer]:\n",
    "    \"\"\"\n",
    "    This function generate lag features for each of the features provided in the \n",
    "    list. The number of lags detemined by the lags_range parameter\n",
    "    \"\"\"\n",
    "    rawdata = rawdata.sort_values(by=[USER_ID_COL, DATE_COL], ascending=True)\n",
    "    \n",
    "    all_lags_features_classified: Dict[str, Set[str]] = defaultdict(set)\n",
    "    total_features_lags: Set[str] = set()\n",
    "        \n",
    "    for feature in features_to_lag:\n",
    "        for lag in range(1, lags_range+1):\n",
    "            lag_feature_name = f'{feature}_lag_{lag}'\n",
    "            rawdata[lag_feature_name] = rawdata.groupby([USER_ID_COL])[feature].shift(lag)\n",
    "            \n",
    "            all_lags_features_classified[feature].add(lag_feature_name)\n",
    "            total_features_lags.add(lag_feature_name)\n",
    "    \n",
    "    lag_features_organizer = EngineeredFeaturesOrganizer(\n",
    "        all_new_features_classified=all_lags_features_classified,\n",
    "        all_new_features=total_features_lags\n",
    "    )\n",
    "    \n",
    "    return rawdata, lag_features_organizer\n",
    "\n",
    "\n",
    "def generate_moving_averages(rawdata:pd.DataFrame, lag_feature_organizer: EngineeredFeaturesOrganizer):\n",
    "    \"\"\"\n",
    "    \"\"\"\n",
    "    total_features_moving_averages: Set[str] = set()\n",
    "    moving_averages_features_classified: Dict[str, Set[str]] = defaultdict(set)\n",
    "        \n",
    "    for feature, lags in lag_feature_organizer.all_new_features_classified.items():\n",
    "        moving_ave_col_name = f'pred_moving_ave_{feature}'\n",
    "        moving_average_relevant_cols = list(lags) + [feature]\n",
    "        rawdata[moving_ave_col_name] = rawdata[moving_average_relevant_cols].mean(axis=1)\n",
    "        total_features_moving_averages.add(moving_ave_col_name)\n",
    "        moving_averages_features_classified[feature].add(moving_ave_col_name)\n",
    "        \n",
    "    moving_averages_features_organizer = EngineeredFeaturesOrganizer(\n",
    "        all_new_features=total_features_moving_averages,\n",
    "        all_new_features_classified=moving_averages_features_classified\n",
    "    )    \n",
    "    \n",
    "    return rawdata, moving_averages_features_organizer\n",
    "\n",
    "\n",
    "def generate_time_diffrences_features(rawdata: pd.DataFrame, sanpshot_date_col: str = DATE_COL,\n",
    "                                      date_features_to_check_diff: List[str] = DATES_DIFFS_CHECK_COLUMNS):\n",
    "    \"\"\"\n",
    "    This function finds the difference in days between the snap-shot date and\n",
    "    the rest of the time based features specify in time_features_check_diff\n",
    "    \"\"\"\n",
    "    total_features_date_differnces: Set[str] = set()\n",
    "        \n",
    "    for feature in date_features_to_check_diff:\n",
    "        date_diff_feature_name = f'{sanpshot_date_col}_diff_{feature}'\n",
    "        rawdata[date_diff_feature_name] = (rawdata[sanpshot_date_col]-rawdata[feature]).dt.days\n",
    "        total_features_date_differnces.add(date_diff_feature_name)\n",
    "    \n",
    "    dates_diff_organizer = EngineeredFeaturesOrganizer(\n",
    "        all_new_features=total_features_date_differnces\n",
    "    )\n",
    "    \n",
    "    return rawdata, dates_diff_organizer\n",
    "\n",
    "\n",
    "def presplit_feature_engineering(rawdata: pd.DataFrame, lags_range: int = 3):\n",
    "    \"\"\"\n",
    "    This function execute the whole feature engineering steps. The all the new\n",
    "    features generated by this function can be executed to the test and train together\n",
    "    there will be no leakage\n",
    "    \"\"\"\n",
    "    rawdata, lag_features_organizer = generate_lag_features(rawdata, lags_range=lags_range)\n",
    "    rawdata, moving_averages_features_organizer = generate_moving_averages(rawdata, lag_features_organizer)    \n",
    "    rawdata, dates_diff_organizer = generate_time_diffrences_features(rawdata)\n",
    "    \n",
    "    return FeatureEngineeringResponse(\n",
    "        enriched_data=rawdata,\n",
    "        lag_features_organizer=lag_features_organizer,\n",
    "        moving_averages_features_organizer=moving_averages_features_organizer,\n",
    "        dates_diff_organizer=moving_averages_features_organizer\n",
    "    )\n",
    "\n"
   ]
  },
  {
   "cell_type": "code",
   "execution_count": 62,
   "id": "c1f4d1ec",
   "metadata": {},
   "outputs": [
    {
     "name": "stderr",
     "output_type": "stream",
     "text": [
      "/opt/conda/lib/python3.7/site-packages/IPython/core/interactiveshell.py:3357: DtypeWarning: Columns (0,1,3,5,6,7,8,10,11) have mixed types.Specify dtype option on import or set low_memory=False.\n",
      "  if (await self.run_code(code, result,  async_=asy)):\n"
     ]
    }
   ],
   "source": [
    "import preprocess\n",
    "rawdata = preprocess.preprocess()"
   ]
  },
  {
   "cell_type": "markdown",
   "id": "0167b9ad",
   "metadata": {},
   "source": [
    "# Test code"
   ]
  },
  {
   "cell_type": "code",
   "execution_count": null,
   "id": "4cd175d0",
   "metadata": {},
   "outputs": [],
   "source": []
  },
  {
   "cell_type": "code",
   "execution_count": 74,
   "id": "cbd97196",
   "metadata": {},
   "outputs": [
    {
     "name": "stdout",
     "output_type": "stream",
     "text": [
      "CPU times: user 6.86 s, sys: 314 ms, total: 7.17 s\n",
      "Wall time: 7.17 s\n"
     ]
    }
   ],
   "source": [
    "%%time\n",
    "feature_engineering_response = presplit_feature_engineering(rawdata)"
   ]
  },
  {
   "cell_type": "code",
   "execution_count": 76,
   "id": "8e2c3d82",
   "metadata": {},
   "outputs": [
    {
     "data": {
      "text/plain": [
       "0    160089\n",
       "1     10557\n",
       "Name: target, dtype: int64"
      ]
     },
     "execution_count": 76,
     "metadata": {},
     "output_type": "execute_result"
    }
   ],
   "source": [
    "feature_engineering_response.enriched_data.target.value_counts()"
   ]
  },
  {
   "cell_type": "code",
   "execution_count": 78,
   "id": "16b5e1b7",
   "metadata": {},
   "outputs": [],
   "source": [
    "org = feature_engineering_response.lag_features_organizer"
   ]
  },
  {
   "cell_type": "code",
   "execution_count": 84,
   "id": "f75c561c",
   "metadata": {},
   "outputs": [
    {
     "data": {
      "text/plain": [
       "{'EOM_Equity_Real_Crypto_lag_1',\n",
       " 'EOM_Equity_Real_Crypto_lag_2',\n",
       " 'EOM_Equity_Real_Crypto_lag_3',\n",
       " 'EOM_Equity_Real_Crypto_lag_4'}"
      ]
     },
     "execution_count": 84,
     "metadata": {},
     "output_type": "execute_result"
    }
   ],
   "source": [
    "org.all_new_features_classified['EOM_Equity_Real_Crypto']"
   ]
  }
 ],
 "metadata": {
  "environment": {
   "name": "r-cpu.3-6.m65",
   "type": "gcloud",
   "uri": "gcr.io/deeplearning-platform-release/r-cpu.3-6:m65"
  },
  "kernelspec": {
   "display_name": "Python 3",
   "language": "python",
   "name": "python3"
  },
  "language_info": {
   "codemirror_mode": {
    "name": "ipython",
    "version": 3
   },
   "file_extension": ".py",
   "mimetype": "text/x-python",
   "name": "python",
   "nbconvert_exporter": "python",
   "pygments_lexer": "ipython3",
   "version": "3.7.10"
  }
 },
 "nbformat": 4,
 "nbformat_minor": 5
}
